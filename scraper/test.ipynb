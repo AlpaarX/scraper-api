{
 "cells": [
  {
   "cell_type": "markdown",
   "metadata": {},
   "source": [
    "Parsing html of suumo (odawara rental)"
   ]
  },
  {
   "cell_type": "code",
   "execution_count": null,
   "metadata": {},
   "outputs": [],
   "source": [
    "from bs4 import BeautifulSoup as bs\n",
    "import time\n",
    "import requests\n",
    "\n",
    "#User inputs\n",
    "url = \"https://suumo.jp/jj/chintai/ichiran/FR301FC001/?ar=030&bs=040&pc=50&smk=&po1=25&po2=99&shkr1=03&shkr2=03&shkr3=03&shkr4=03&sc=14206&ta=14&cb=7.5&ct=8.5&et=9999999&mb=0&mt=9999999&cn=9999999&fw2=\"\n",
    "\n",
    "rounding = -3 # By default, it will round to the nearest 10000 (-3 for 1000, -2 for 100, etc.)\n",
    "\n",
    "# variables\n",
    "url += \"&page=\"\n",
    "headers = {\n",
    "    \"User-Agent\": \"Mozilla/5.0 (Windows NT 10.0; Win64; x64) AppleWebKit/537.36 (KHTML, like Gecko) Chrome/91.0.4472.124 Safari/537.36\"\n",
    "}\n",
    "\n",
    "prices = []\n",
    "for i in range(1, 5):\n",
    "    try:\n",
    "        response = requests.get(f\"{url}{i}\", headers=headers)\n",
    "        response.raise_for_status()  # Raise an error for HTTP codes 4xx/5xx\n",
    "        html_content = response.text\n",
    "        print(i, html_content)\n",
    "        soup = bs(html_content, 'html.parser')\n",
    "\n",
    "        # Find all parent elements with class 'cassetteitem_price cassetteitem_price--rent'\n",
    "        parent_elements = soup.find_all('span', class_='cassetteitem_price cassetteitem_price--rent')\n",
    "        # Extract child elements with the specific class within the parent\n",
    "        \n",
    "        for parent in parent_elements:\n",
    "            price = parent.find('span', class_='cassetteitem_other-emphasis ui-text--bold')\n",
    "            if price:\n",
    "                price = float(price.text.replace(\"万円\", \"\")) * 10000\n",
    "                prices.append(price)\n",
    "        \n",
    "        time.sleep(5)\n",
    "    except requests.exceptions.RequestException as e:\n",
    "        print(f\"Failed to fetch page {i}: {e}\")\n",
    "        \n",
    "print(len(prices))\n",
    "\n",
    "\n",
    "\n",
    "\n",
    "\n"
   ]
  },
  {
   "cell_type": "markdown",
   "metadata": {},
   "source": [
    "Data summary"
   ]
  },
  {
   "cell_type": "code",
   "execution_count": null,
   "metadata": {},
   "outputs": [],
   "source": [
    "print(\"Listing count: \", len(prices))\n",
    "print(\"Average price: \", int(sum(prices) / len(prices)), \"円\")\n"
   ]
  },
  {
   "cell_type": "markdown",
   "metadata": {},
   "source": [
    "Data processing"
   ]
  },
  {
   "cell_type": "code",
   "execution_count": null,
   "metadata": {},
   "outputs": [],
   "source": [
    "frequency = {}\n",
    "\n",
    "for price in prices:\n",
    "    price = str(round(price, rounding))\n",
    "    frequency[price] = frequency.get(price, 0) + 1"
   ]
  },
  {
   "cell_type": "markdown",
   "metadata": {},
   "source": [
    "Data Visualization"
   ]
  },
  {
   "cell_type": "code",
   "execution_count": null,
   "metadata": {},
   "outputs": [],
   "source": [
    "import matplotlib.pyplot as plt\n",
    "\n",
    "frequency = dict(sorted(frequency.items(), key=lambda x: x[1], reverse=True))\n",
    "\n",
    "plt.figure(figsize=(20, 10))\n",
    "plt.bar(frequency.keys(), frequency.values())"
   ]
  }
 ],
 "metadata": {
  "kernelspec": {
   "display_name": ".venv",
   "language": "python",
   "name": "python3"
  },
  "language_info": {
   "codemirror_mode": {
    "name": "ipython",
    "version": 3
   },
   "file_extension": ".py",
   "mimetype": "text/x-python",
   "name": "python",
   "nbconvert_exporter": "python",
   "pygments_lexer": "ipython3",
   "version": "3.12.1"
  }
 },
 "nbformat": 4,
 "nbformat_minor": 2
}
